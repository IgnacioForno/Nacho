{
  "nbformat": 4,
  "nbformat_minor": 0,
  "metadata": {
    "colab": {
      "provenance": [],
      "authorship_tag": "ABX9TyP8riHAiMz6FtbttlWebi2t",
      "include_colab_link": true
    },
    "kernelspec": {
      "name": "python3",
      "display_name": "Python 3"
    },
    "language_info": {
      "name": "python"
    }
  },
  "cells": [
    {
      "cell_type": "markdown",
      "metadata": {
        "id": "view-in-github",
        "colab_type": "text"
      },
      "source": [
        "<a href=\"https://colab.research.google.com/github/IgnacioForno/Nacho/blob/master/Forno_Ignacio_02_03_Ej2.ipynb\" target=\"_parent\"><img src=\"https://colab.research.google.com/assets/colab-badge.svg\" alt=\"Open In Colab\"/></a>"
      ]
    },
    {
      "cell_type": "markdown",
      "source": [
        "EJ2_2) Forno Ignacio Emanuel"
      ],
      "metadata": {
        "id": "F0r6QyE1C3Vb"
      }
    },
    {
      "cell_type": "markdown",
      "source": [
        "EJ1_1) Datos es un término que se refiere a hechos, eventos, transacciones, etc., Información se refiere a los datos que han sido procesados y comunicados de tal manera que pueden ser entendidos e interpretados por el receptor.\n",
        "\n",
        "EJ1_2) Un dato es la entrada sin procesar de la cual se produce la información.\n",
        "\n",
        "EJ1_3) https://www.uacj.mx/CGTI/CDTE/JPM/Documents/IIT/Introduccion_TI/3_Modelos_sistemas/datos-vs.-informaci%C3%B3n.html#:~:text=Datos%20es%20un%20t%C3%A9rmino%20que,e%20interpretados%20por%20el%20receptor.\n",
        "\n",
        "EJ1_4) En sistemas un dato puede llegar a ser la información ya sea valores numericos, alfabeticos, etc., que recibe una computadora, por separado no tienen importancia para los usuarios, pero en conjunto pueden ser interpretadosa traves de programas para obtener una información completa."
      ],
      "metadata": {
        "id": "zWm6W685dKek"
      }
    },
    {
      "cell_type": "markdown",
      "source": [
        "EJ2_ 3) ChatGPT es un potente chatbot en línea impulsado por el modelo de lenguaje por Inteligencia Arficial GPT-3. Éste ha sido desarrollado por OpenAI, una empresa sin ánimo de lucro dedicada a la investigación sobre la IA y padres de famoso software creador de imágenes DALL-E. Sin embargo, a diferencia de este último, ChatGPT puede comprender y responder todo tipo de preguntas además de generar textos desde cero. Todo ello deforma natural, estructurada y con un extraordinario nivel de creatividad.\n",
        "\n",
        "Esta en cualquier boscador en la pagina de openai\n",
        "\n",
        "Podemos acceder a travez de este link https://openai.com/blog/chatgpt"
      ],
      "metadata": {
        "id": "ZiQHijlUgHAF"
      }
    },
    {
      "cell_type": "code",
      "source": [
        "# EJ2_6 y 7)\n",
        "num1 = float(input(\"Ingrese el primer número: \"))\n",
        "num2 = float(input(\"Ingrese el segundo número: \"))\n",
        "\n",
        "suma = num1 + num2\n",
        "\n",
        "print(\"La suma de\", num1, \"y\", num2, \"es:\", suma)"
      ],
      "metadata": {
        "colab": {
          "base_uri": "https://localhost:8080/"
        },
        "id": "KJ6s79e8flMc",
        "outputId": "6f95144a-012e-460c-c4b6-1296c34dc0e8"
      },
      "execution_count": null,
      "outputs": [
        {
          "output_type": "stream",
          "name": "stdout",
          "text": [
            "Ingrese el primer número: 555\n",
            "Ingrese el segundo número: 555\n",
            "La suma de 555.0 y 555.0 es: 1110.0\n"
          ]
        }
      ]
    },
    {
      "cell_type": "code",
      "source": [
        "def suma(a,b):\n",
        "  suma=a+b\n",
        "  return suma"
      ],
      "metadata": {
        "id": "ALr7pTvsZB-9"
      },
      "execution_count": 1,
      "outputs": []
    },
    {
      "cell_type": "code",
      "source": [
        "suma(10,20)"
      ],
      "metadata": {
        "colab": {
          "base_uri": "https://localhost:8080/"
        },
        "id": "2Nh7RCmDZQPN",
        "outputId": "7d194fba-e006-4eb5-da1c-5fd290fd864c"
      },
      "execution_count": 3,
      "outputs": [
        {
          "output_type": "execute_result",
          "data": {
            "text/plain": [
              "30"
            ]
          },
          "metadata": {},
          "execution_count": 3
        }
      ]
    },
    {
      "cell_type": "code",
      "source": [
        "def resta(a,b):\n",
        "  resta=a-b\n",
        "  return resta"
      ],
      "metadata": {
        "id": "MlEIwam_ZY5N"
      },
      "execution_count": 4,
      "outputs": []
    },
    {
      "cell_type": "code",
      "source": [
        "resta(10,20)"
      ],
      "metadata": {
        "colab": {
          "base_uri": "https://localhost:8080/"
        },
        "id": "2WfkERtmZfN-",
        "outputId": "1a8fdf10-a8e6-4978-c55a-e1d9c82d6741"
      },
      "execution_count": 6,
      "outputs": [
        {
          "output_type": "execute_result",
          "data": {
            "text/plain": [
              "-10"
            ]
          },
          "metadata": {},
          "execution_count": 6
        }
      ]
    },
    {
      "cell_type": "code",
      "source": [
        "def multiplicacion(a,b):\n",
        "  multi=a*b\n",
        "  return multi"
      ],
      "metadata": {
        "id": "EULP3zYTZlQl"
      },
      "execution_count": 11,
      "outputs": []
    },
    {
      "cell_type": "code",
      "source": [
        "multiplicacion(10,20) "
      ],
      "metadata": {
        "colab": {
          "base_uri": "https://localhost:8080/"
        },
        "id": "OJq6nX1uZlnO",
        "outputId": "cdbc99fb-e3ea-456b-a98a-b1a6fb2fdbec"
      },
      "execution_count": 12,
      "outputs": [
        {
          "output_type": "execute_result",
          "data": {
            "text/plain": [
              "200"
            ]
          },
          "metadata": {},
          "execution_count": 12
        }
      ]
    },
    {
      "cell_type": "code",
      "source": [
        "def divicion(a,b):\n",
        "  divi=a/b\n",
        "  return divi"
      ],
      "metadata": {
        "id": "dprahgK1Zl_V"
      },
      "execution_count": 16,
      "outputs": []
    },
    {
      "cell_type": "code",
      "source": [
        "divicion(20,10)"
      ],
      "metadata": {
        "colab": {
          "base_uri": "https://localhost:8080/"
        },
        "id": "j5B9C7h0ZmQt",
        "outputId": "c1115d45-79aa-4d97-8933-b4f22896da46"
      },
      "execution_count": 17,
      "outputs": [
        {
          "output_type": "execute_result",
          "data": {
            "text/plain": [
              "2.0"
            ]
          },
          "metadata": {},
          "execution_count": 17
        }
      ]
    }
  ]
}